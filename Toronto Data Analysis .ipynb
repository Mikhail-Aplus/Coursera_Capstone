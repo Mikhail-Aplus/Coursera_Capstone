{
    "cells": [
        {
            "cell_type": "code",
            "execution_count": 289,
            "metadata": {},
            "outputs": [],
            "source": "import pandas as pd\nimport requests\nfrom bs4 import BeautifulSoup"
        },
        {
            "cell_type": "markdown",
            "metadata": {},
            "source": "### Getting Data from Internet"
        },
        {
            "cell_type": "code",
            "execution_count": 290,
            "metadata": {},
            "outputs": [],
            "source": "\nurl = \"https://en.wikipedia.org/wiki/List_of_postal_codes_of_Canada:_M\"\nData_url = requests.get(url).text\nData=BeautifulSoup(Data_url, 'lxml')"
        },
        {
            "cell_type": "markdown",
            "metadata": {},
            "source": "### Creating of new DataFrame"
        },
        {
            "cell_type": "code",
            "execution_count": 292,
            "metadata": {},
            "outputs": [],
            "source": "\ntable=Data.find('table')\ncolumns_names = ['PostalCode','Borough','Neighborhood']\ndf_toronto=pd.DataFrame(columns = columns_names)\n"
        },
        {
            "cell_type": "code",
            "execution_count": 293,
            "metadata": {},
            "outputs": [
                {
                    "data": {
                        "text/html": "<div>\n<style scoped>\n    .dataframe tbody tr th:only-of-type {\n        vertical-align: middle;\n    }\n\n    .dataframe tbody tr th {\n        vertical-align: top;\n    }\n\n    .dataframe thead th {\n        text-align: right;\n    }\n</style>\n<table border=\"1\" class=\"dataframe\">\n  <thead>\n    <tr style=\"text-align: right;\">\n      <th></th>\n      <th>PostalCode</th>\n      <th>Borough</th>\n      <th>Neighborhood</th>\n    </tr>\n  </thead>\n  <tbody>\n  </tbody>\n</table>\n</div>",
                        "text/plain": "Empty DataFrame\nColumns: [PostalCode, Borough, Neighborhood]\nIndex: []"
                    },
                    "execution_count": 293,
                    "metadata": {},
                    "output_type": "execute_result"
                }
            ],
            "source": "df_toronto"
        },
        {
            "cell_type": "code",
            "execution_count": 295,
            "metadata": {},
            "outputs": [],
            "source": "table_rows = table.find_all('tr')"
        },
        {
            "cell_type": "markdown",
            "metadata": {},
            "source": "### Searching for new Data columns"
        },
        {
            "cell_type": "code",
            "execution_count": 297,
            "metadata": {},
            "outputs": [],
            "source": "for tr in table_rows:\n    row_data=[]\n    for td in tr.find_all('td'):\n        row_data.append(td.text.strip())\n    if len(row_data)==3:\n        df_toronto.loc[len(df_toronto)] = row_data"
        },
        {
            "cell_type": "code",
            "execution_count": 298,
            "metadata": {},
            "outputs": [
                {
                    "data": {
                        "text/plain": "(180, 3)"
                    },
                    "execution_count": 298,
                    "metadata": {},
                    "output_type": "execute_result"
                }
            ],
            "source": "df_toronto.shape"
        },
        {
            "cell_type": "code",
            "execution_count": 300,
            "metadata": {
                "scrolled": false
            },
            "outputs": [
                {
                    "data": {
                        "text/html": "<div>\n<style scoped>\n    .dataframe tbody tr th:only-of-type {\n        vertical-align: middle;\n    }\n\n    .dataframe tbody tr th {\n        vertical-align: top;\n    }\n\n    .dataframe thead th {\n        text-align: right;\n    }\n</style>\n<table border=\"1\" class=\"dataframe\">\n  <thead>\n    <tr style=\"text-align: right;\">\n      <th></th>\n      <th>PostalCode</th>\n      <th>Borough</th>\n      <th>Neighborhood</th>\n    </tr>\n  </thead>\n  <tbody>\n    <tr>\n      <th>0</th>\n      <td>M1A</td>\n      <td>Not assigned</td>\n      <td></td>\n    </tr>\n    <tr>\n      <th>1</th>\n      <td>M2A</td>\n      <td>Not assigned</td>\n      <td></td>\n    </tr>\n    <tr>\n      <th>2</th>\n      <td>M3A</td>\n      <td>North York</td>\n      <td>Parkwoods</td>\n    </tr>\n    <tr>\n      <th>3</th>\n      <td>M4A</td>\n      <td>North York</td>\n      <td>Victoria Village</td>\n    </tr>\n    <tr>\n      <th>4</th>\n      <td>M5A</td>\n      <td>Downtown Toronto</td>\n      <td>Regent Park / Harbourfront</td>\n    </tr>\n    <tr>\n      <th>5</th>\n      <td>M6A</td>\n      <td>North York</td>\n      <td>Lawrence Manor / Lawrence Heights</td>\n    </tr>\n    <tr>\n      <th>6</th>\n      <td>M7A</td>\n      <td>Downtown Toronto</td>\n      <td>Queen's Park / Ontario Provincial Government</td>\n    </tr>\n    <tr>\n      <th>7</th>\n      <td>M8A</td>\n      <td>Not assigned</td>\n      <td></td>\n    </tr>\n    <tr>\n      <th>8</th>\n      <td>M9A</td>\n      <td>Etobicoke</td>\n      <td>Islington Avenue</td>\n    </tr>\n    <tr>\n      <th>9</th>\n      <td>M1B</td>\n      <td>Scarborough</td>\n      <td>Malvern / Rouge</td>\n    </tr>\n  </tbody>\n</table>\n</div>",
                        "text/plain": "  PostalCode           Borough                                  Neighborhood\n0        M1A      Not assigned                                              \n1        M2A      Not assigned                                              \n2        M3A        North York                                     Parkwoods\n3        M4A        North York                              Victoria Village\n4        M5A  Downtown Toronto                    Regent Park / Harbourfront\n5        M6A        North York             Lawrence Manor / Lawrence Heights\n6        M7A  Downtown Toronto  Queen's Park / Ontario Provincial Government\n7        M8A      Not assigned                                              \n8        M9A         Etobicoke                              Islington Avenue\n9        M1B       Scarborough                               Malvern / Rouge"
                    },
                    "execution_count": 300,
                    "metadata": {},
                    "output_type": "execute_result"
                }
            ],
            "source": "df_toronto.head(10)"
        },
        {
            "cell_type": "markdown",
            "metadata": {},
            "source": "### Removing Rows in Borough with \"Not Assigned\""
        },
        {
            "cell_type": "code",
            "execution_count": 301,
            "metadata": {},
            "outputs": [],
            "source": "df_toronto=df_toronto[df_toronto['Borough']!='Not assigned']"
        },
        {
            "cell_type": "code",
            "execution_count": 303,
            "metadata": {},
            "outputs": [
                {
                    "data": {
                        "text/plain": "(103, 3)"
                    },
                    "execution_count": 303,
                    "metadata": {},
                    "output_type": "execute_result"
                }
            ],
            "source": "df_toronto.shape"
        },
        {
            "cell_type": "code",
            "execution_count": 304,
            "metadata": {},
            "outputs": [
                {
                    "data": {
                        "text/html": "<div>\n<style scoped>\n    .dataframe tbody tr th:only-of-type {\n        vertical-align: middle;\n    }\n\n    .dataframe tbody tr th {\n        vertical-align: top;\n    }\n\n    .dataframe thead th {\n        text-align: right;\n    }\n</style>\n<table border=\"1\" class=\"dataframe\">\n  <thead>\n    <tr style=\"text-align: right;\">\n      <th></th>\n      <th>PostalCode</th>\n      <th>Borough</th>\n      <th>Neighborhood</th>\n    </tr>\n  </thead>\n  <tbody>\n    <tr>\n      <th>2</th>\n      <td>M3A</td>\n      <td>North York</td>\n      <td>Parkwoods</td>\n    </tr>\n    <tr>\n      <th>3</th>\n      <td>M4A</td>\n      <td>North York</td>\n      <td>Victoria Village</td>\n    </tr>\n    <tr>\n      <th>4</th>\n      <td>M5A</td>\n      <td>Downtown Toronto</td>\n      <td>Regent Park / Harbourfront</td>\n    </tr>\n    <tr>\n      <th>5</th>\n      <td>M6A</td>\n      <td>North York</td>\n      <td>Lawrence Manor / Lawrence Heights</td>\n    </tr>\n    <tr>\n      <th>6</th>\n      <td>M7A</td>\n      <td>Downtown Toronto</td>\n      <td>Queen's Park / Ontario Provincial Government</td>\n    </tr>\n    <tr>\n      <th>8</th>\n      <td>M9A</td>\n      <td>Etobicoke</td>\n      <td>Islington Avenue</td>\n    </tr>\n    <tr>\n      <th>9</th>\n      <td>M1B</td>\n      <td>Scarborough</td>\n      <td>Malvern / Rouge</td>\n    </tr>\n    <tr>\n      <th>11</th>\n      <td>M3B</td>\n      <td>North York</td>\n      <td>Don Mills</td>\n    </tr>\n    <tr>\n      <th>12</th>\n      <td>M4B</td>\n      <td>East York</td>\n      <td>Parkview Hill / Woodbine Gardens</td>\n    </tr>\n    <tr>\n      <th>13</th>\n      <td>M5B</td>\n      <td>Downtown Toronto</td>\n      <td>Garden District, Ryerson</td>\n    </tr>\n  </tbody>\n</table>\n</div>",
                        "text/plain": "   PostalCode           Borough                                  Neighborhood\n2         M3A        North York                                     Parkwoods\n3         M4A        North York                              Victoria Village\n4         M5A  Downtown Toronto                    Regent Park / Harbourfront\n5         M6A        North York             Lawrence Manor / Lawrence Heights\n6         M7A  Downtown Toronto  Queen's Park / Ontario Provincial Government\n8         M9A         Etobicoke                              Islington Avenue\n9         M1B       Scarborough                               Malvern / Rouge\n11        M3B        North York                                     Don Mills\n12        M4B         East York              Parkview Hill / Woodbine Gardens\n13        M5B  Downtown Toronto                      Garden District, Ryerson"
                    },
                    "execution_count": 304,
                    "metadata": {},
                    "output_type": "execute_result"
                }
            ],
            "source": "df_toronto.head(10)"
        },
        {
            "cell_type": "markdown",
            "metadata": {},
            "source": "###  Rows in Neighbornhood  with \"Not Assigned\" wits replacing from Borough"
        },
        {
            "cell_type": "code",
            "execution_count": 240,
            "metadata": {
                "scrolled": true
            },
            "outputs": [],
            "source": "##df_toronto[df_toronto['Neighborhood'] == 'Not assigned'] = df_toronto['Borough']"
        },
        {
            "cell_type": "markdown",
            "metadata": {},
            "source": "##### No cells in Neighborhood with \"Not assigned\"!"
        },
        {
            "cell_type": "code",
            "execution_count": 305,
            "metadata": {
                "scrolled": true
            },
            "outputs": [
                {
                    "data": {
                        "text/html": "<div>\n<style scoped>\n    .dataframe tbody tr th:only-of-type {\n        vertical-align: middle;\n    }\n\n    .dataframe tbody tr th {\n        vertical-align: top;\n    }\n\n    .dataframe thead th {\n        text-align: right;\n    }\n</style>\n<table border=\"1\" class=\"dataframe\">\n  <thead>\n    <tr style=\"text-align: right;\">\n      <th></th>\n      <th>PostalCode</th>\n      <th>Borough</th>\n      <th>Neighborhood</th>\n    </tr>\n  </thead>\n  <tbody>\n  </tbody>\n</table>\n</div>",
                        "text/plain": "Empty DataFrame\nColumns: [PostalCode, Borough, Neighborhood]\nIndex: []"
                    },
                    "execution_count": 305,
                    "metadata": {},
                    "output_type": "execute_result"
                }
            ],
            "source": "df_toronto[df_toronto['Neighborhood'] == 'Not assigned'] "
        },
        {
            "cell_type": "markdown",
            "metadata": {},
            "source": "### Resetting Index"
        },
        {
            "cell_type": "code",
            "execution_count": 306,
            "metadata": {},
            "outputs": [
                {
                    "data": {
                        "text/html": "<div>\n<style scoped>\n    .dataframe tbody tr th:only-of-type {\n        vertical-align: middle;\n    }\n\n    .dataframe tbody tr th {\n        vertical-align: top;\n    }\n\n    .dataframe thead th {\n        text-align: right;\n    }\n</style>\n<table border=\"1\" class=\"dataframe\">\n  <thead>\n    <tr style=\"text-align: right;\">\n      <th></th>\n      <th>PostalCode</th>\n      <th>Borough</th>\n      <th>Neighborhood</th>\n    </tr>\n  </thead>\n  <tbody>\n    <tr>\n      <th>0</th>\n      <td>M3A</td>\n      <td>North York</td>\n      <td>Parkwoods</td>\n    </tr>\n    <tr>\n      <th>1</th>\n      <td>M4A</td>\n      <td>North York</td>\n      <td>Victoria Village</td>\n    </tr>\n    <tr>\n      <th>2</th>\n      <td>M5A</td>\n      <td>Downtown Toronto</td>\n      <td>Regent Park / Harbourfront</td>\n    </tr>\n    <tr>\n      <th>3</th>\n      <td>M6A</td>\n      <td>North York</td>\n      <td>Lawrence Manor / Lawrence Heights</td>\n    </tr>\n    <tr>\n      <th>4</th>\n      <td>M7A</td>\n      <td>Downtown Toronto</td>\n      <td>Queen's Park / Ontario Provincial Government</td>\n    </tr>\n  </tbody>\n</table>\n</div>",
                        "text/plain": "  PostalCode           Borough                                  Neighborhood\n0        M3A        North York                                     Parkwoods\n1        M4A        North York                              Victoria Village\n2        M5A  Downtown Toronto                    Regent Park / Harbourfront\n3        M6A        North York             Lawrence Manor / Lawrence Heights\n4        M7A  Downtown Toronto  Queen's Park / Ontario Provincial Government"
                    },
                    "execution_count": 306,
                    "metadata": {},
                    "output_type": "execute_result"
                }
            ],
            "source": "df_toronto=df_toronto.reset_index(drop=True)\ndf_toronto.head()"
        },
        {
            "cell_type": "markdown",
            "metadata": {},
            "source": "###  Replacing '/' to ','"
        },
        {
            "cell_type": "code",
            "execution_count": 307,
            "metadata": {
                "scrolled": true
            },
            "outputs": [
                {
                    "data": {
                        "text/plain": "0                                       Parkwoods\n1                                Victoria Village\n2                      Regent Park / Harbourfront\n3               Lawrence Manor / Lawrence Heights\n4    Queen's Park / Ontario Provincial Government\nName: Neighborhood, dtype: object"
                    },
                    "execution_count": 307,
                    "metadata": {},
                    "output_type": "execute_result"
                }
            ],
            "source": "df_toronto['Neighborhood'].head()"
        },
        {
            "cell_type": "code",
            "execution_count": 308,
            "metadata": {},
            "outputs": [],
            "source": "df_toronto['Neighborhood']=df_toronto['Neighborhood'].str.replace('/',',')"
        },
        {
            "cell_type": "code",
            "execution_count": 309,
            "metadata": {},
            "outputs": [
                {
                    "data": {
                        "text/plain": "0                                       Parkwoods\n1                                Victoria Village\n2                      Regent Park , Harbourfront\n3               Lawrence Manor , Lawrence Heights\n4    Queen's Park , Ontario Provincial Government\nName: Neighborhood, dtype: object"
                    },
                    "execution_count": 309,
                    "metadata": {},
                    "output_type": "execute_result"
                }
            ],
            "source": "df_toronto['Neighborhood'].head()"
        },
        {
            "cell_type": "markdown",
            "metadata": {},
            "source": "# Results"
        },
        {
            "cell_type": "code",
            "execution_count": 310,
            "metadata": {},
            "outputs": [
                {
                    "data": {
                        "text/html": "<div>\n<style scoped>\n    .dataframe tbody tr th:only-of-type {\n        vertical-align: middle;\n    }\n\n    .dataframe tbody tr th {\n        vertical-align: top;\n    }\n\n    .dataframe thead th {\n        text-align: right;\n    }\n</style>\n<table border=\"1\" class=\"dataframe\">\n  <thead>\n    <tr style=\"text-align: right;\">\n      <th></th>\n      <th>PostalCode</th>\n      <th>Borough</th>\n      <th>Neighborhood</th>\n    </tr>\n  </thead>\n  <tbody>\n    <tr>\n      <th>0</th>\n      <td>M3A</td>\n      <td>North York</td>\n      <td>Parkwoods</td>\n    </tr>\n    <tr>\n      <th>1</th>\n      <td>M4A</td>\n      <td>North York</td>\n      <td>Victoria Village</td>\n    </tr>\n    <tr>\n      <th>2</th>\n      <td>M5A</td>\n      <td>Downtown Toronto</td>\n      <td>Regent Park , Harbourfront</td>\n    </tr>\n    <tr>\n      <th>3</th>\n      <td>M6A</td>\n      <td>North York</td>\n      <td>Lawrence Manor , Lawrence Heights</td>\n    </tr>\n    <tr>\n      <th>4</th>\n      <td>M7A</td>\n      <td>Downtown Toronto</td>\n      <td>Queen's Park , Ontario Provincial Government</td>\n    </tr>\n    <tr>\n      <th>5</th>\n      <td>M9A</td>\n      <td>Etobicoke</td>\n      <td>Islington Avenue</td>\n    </tr>\n    <tr>\n      <th>6</th>\n      <td>M1B</td>\n      <td>Scarborough</td>\n      <td>Malvern , Rouge</td>\n    </tr>\n    <tr>\n      <th>7</th>\n      <td>M3B</td>\n      <td>North York</td>\n      <td>Don Mills</td>\n    </tr>\n    <tr>\n      <th>8</th>\n      <td>M4B</td>\n      <td>East York</td>\n      <td>Parkview Hill , Woodbine Gardens</td>\n    </tr>\n    <tr>\n      <th>9</th>\n      <td>M5B</td>\n      <td>Downtown Toronto</td>\n      <td>Garden District, Ryerson</td>\n    </tr>\n  </tbody>\n</table>\n</div>",
                        "text/plain": "  PostalCode           Borough                                  Neighborhood\n0        M3A        North York                                     Parkwoods\n1        M4A        North York                              Victoria Village\n2        M5A  Downtown Toronto                    Regent Park , Harbourfront\n3        M6A        North York             Lawrence Manor , Lawrence Heights\n4        M7A  Downtown Toronto  Queen's Park , Ontario Provincial Government\n5        M9A         Etobicoke                              Islington Avenue\n6        M1B       Scarborough                               Malvern , Rouge\n7        M3B        North York                                     Don Mills\n8        M4B         East York              Parkview Hill , Woodbine Gardens\n9        M5B  Downtown Toronto                      Garden District, Ryerson"
                    },
                    "execution_count": 310,
                    "metadata": {},
                    "output_type": "execute_result"
                }
            ],
            "source": "df_toronto.head(10)"
        },
        {
            "cell_type": "code",
            "execution_count": 288,
            "metadata": {},
            "outputs": [
                {
                    "data": {
                        "text/plain": "(103, 3)"
                    },
                    "execution_count": 288,
                    "metadata": {},
                    "output_type": "execute_result"
                }
            ],
            "source": "df_toronto.shape"
        },
        {
            "cell_type": "code",
            "execution_count": null,
            "metadata": {},
            "outputs": [],
            "source": ""
        }
    ],
    "metadata": {
        "kernelspec": {
            "display_name": "Python 3.6",
            "language": "python",
            "name": "python3"
        },
        "language_info": {
            "codemirror_mode": {
                "name": "ipython",
                "version": 3
            },
            "file_extension": ".py",
            "mimetype": "text/x-python",
            "name": "python",
            "nbconvert_exporter": "python",
            "pygments_lexer": "ipython3",
            "version": "3.6.9"
        }
    },
    "nbformat": 4,
    "nbformat_minor": 1
}